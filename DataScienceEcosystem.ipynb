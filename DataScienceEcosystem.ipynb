{
 "cells": [
  {
   "cell_type": "markdown",
   "id": "8a7bdb3a",
   "metadata": {},
   "source": [
    "# Data Science Tools and Ecosystem"
   ]
  },
  {
   "cell_type": "markdown",
   "id": "68c95009",
   "metadata": {},
   "source": [
    "in this notebook data science tools and ecosystem are summarized"
   ]
  },
  {
   "cell_type": "markdown",
   "id": "bb3d39f0",
   "metadata": {},
   "source": [
    "**objectives :**\n",
    "- list the data science tools\n",
    "- list the data science libraries\n",
    "- get familiar with arithmetic operations in python"
   ]
  },
  {
   "cell_type": "markdown",
   "id": "03022a44",
   "metadata": {},
   "source": [
    "here are some of the most used languages by data scientists :\n",
    "1. python\n",
    "1. R\n",
    "1. scala"
   ]
  },
  {
   "cell_type": "markdown",
   "id": "8d921d9f",
   "metadata": {},
   "source": [
    "and some of the most commonly used libraries are:\n",
    " 1. matplotlib\n",
    "   1. ggplot\n",
    "   1. tensorflow"
   ]
  },
  {
   "cell_type": "markdown",
   "id": "96aed15c",
   "metadata": {},
   "source": [
    "| Data Science tools |\n",
    "-\n",
    "| jupyter notebooks |\n",
    "| vscode |\n",
    "| Rstudio |"
   ]
  },
  {
   "cell_type": "markdown",
   "id": "5c24cbbb",
   "metadata": {},
   "source": [
    "### arithmetic operations in python:"
   ]
  },
  {
   "cell_type": "code",
   "execution_count": 4,
   "id": "a0eb976e",
   "metadata": {},
   "outputs": [
    {
     "data": {
      "text/plain": [
       "17"
      ]
     },
     "execution_count": 4,
     "metadata": {},
     "output_type": "execute_result"
    }
   ],
   "source": [
    "#adding two integers#\n",
    "(3*4)+5"
   ]
  },
  {
   "cell_type": "code",
   "execution_count": 5,
   "id": "0886b48e",
   "metadata": {},
   "outputs": [
    {
     "data": {
      "text/plain": [
       "3.3333333333333335"
      ]
     },
     "execution_count": 5,
     "metadata": {},
     "output_type": "execute_result"
    }
   ],
   "source": [
    "#this will convert minutes to hours\n",
    "200/60"
   ]
  },
  {
   "cell_type": "markdown",
   "id": "476f2d6f",
   "metadata": {},
   "source": [
    "## Author:\n",
    "Pouria Lakzian"
   ]
  },
  {
   "cell_type": "code",
   "execution_count": null,
   "id": "72f0fb7a",
   "metadata": {},
   "outputs": [],
   "source": []
  }
 ],
 "metadata": {
  "kernelspec": {
   "display_name": "Python 3 (ipykernel)",
   "language": "python",
   "name": "python3"
  },
  "language_info": {
   "codemirror_mode": {
    "name": "ipython",
    "version": 3
   },
   "file_extension": ".py",
   "mimetype": "text/x-python",
   "name": "python",
   "nbconvert_exporter": "python",
   "pygments_lexer": "ipython3",
   "version": "3.10.9"
  }
 },
 "nbformat": 4,
 "nbformat_minor": 5
}
